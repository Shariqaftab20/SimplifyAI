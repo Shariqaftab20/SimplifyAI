{
 "cells": [
  {
   "cell_type": "code",
   "execution_count": 1,
   "metadata": {},
   "outputs": [],
   "source": [
    "# This is a long document we can split up.\n",
    "with open(\"speach.txt\") as f:\n",
    "    state_of_the_union = f.read()"
   ]
  },
  {
   "cell_type": "code",
   "execution_count": 3,
   "metadata": {},
   "outputs": [
    {
     "data": {
      "text/plain": [
       "[Document(metadata={'source': 'test.pdf', 'page': 0}, page_content='Shariq Aftab\\nKolkata, West Bengal\\n♂phone+91 8420925890 /envel⌢peshariqaftab444@gmail.com /linkedinshariq-aftab /githubShariq-Aftab20\\nEducation\\nSRM Institute of Science and Technology August 2020 - June 2024\\nB.Tech in Computer Science Engineering with Specialization in AI/ML (CGPA of 8.9) Delhi NCR, India\\nExperience\\nOpenInApp December 2023 – June 2024\\nAI Engineer Bangalore, India\\n•Streamlined an Audio-to-Audio translation product, incorporating three main modules: Synchronization ,Natural\\nSpoken Language Translation , and Text-To-Speech with Voice Cloning .\\n•Engineered and deployed a transformative Text-to-Speech (TTS) pipeline , achieving a 96.67% reduction in\\nweekly audio book production turnaround time , significantly surpassing traditional manual translation processes\\nand enhancing operational efficiency.\\n•Enhanced IG Cash for Instagram Reels by upgrading it to process Instagram Reels, reducing output time from 120'),\n",
       " Document(metadata={'source': 'test.pdf', 'page': 0}, page_content='and enhancing operational efficiency.\\n•Enhanced IG Cash for Instagram Reels by upgrading it to process Instagram Reels, reducing output time from 120\\nto 17 seconds through the implementation of multi-threading and a KL divergence-based frame selection\\nmethod . Achieved an 80% reduction in unnecessary frames , boosting efficiency and expanding affiliate link\\ngeneration capabilities.\\nUnversity of New South Wales September 2022 – January 2023\\nResearch Intern Remote, Australia\\n•Research focus: Adversarial Bot Detection using Generative Adversarial Neural Network .\\n•Investigating adversarial machine learning methods to detect distributions facilitating classification between\\nautomated andhuman-controlled accounts . Curated and processed a dataset of 100,000 classified accounts .\\nProjects\\nAdvanced Duplicate Question Detection System |PyTorch, Transformers, BERT, AdamW, DAX\\n•Engineered and fine-tuned a state-of-the-art BERT model in PyTorch, achieving a 20% increase in detection'),\n",
       " Document(metadata={'source': 'test.pdf', 'page': 0}, page_content='Advanced Duplicate Question Detection System |PyTorch, Transformers, BERT, AdamW, DAX\\n•Engineered and fine-tuned a state-of-the-art BERT model in PyTorch, achieving a 20% increase in detection\\naccuracy and a 15% reduction in overfitting through strategic model optimizations.\\n•Executed comprehensive data preprocessing and tokenization using BertTokenizer, used a custom BertDataSet class to\\nenhance batch processing efficiency by 30% , and conducted meticulous model evaluation resulting in an impressive\\nF1-score of 0.85 .\\n•Integrated strategic enhancements that dramatically reduced false positives by 25% , significantly improving the overall\\nuser experience.\\nIntelligent SOP Generator |Java Spring Boot, MongoDB, LangChain, Falcon 180B, QLORA, Python\\n•Developed a chat-based Statement of Purpose (SOP) generator using an in-house fine-tuned LLM , facilitating\\nreal-time, interactive user conversations via WebSockets and generating customized SOPs.Reduced SOP creation time\\nby 80%'),\n",
       " Document(metadata={'source': 'test.pdf', 'page': 0}, page_content='real-time, interactive user conversations via WebSockets and generating customized SOPs.Reduced SOP creation time\\nby 80%\\n•Implemented dynamic question parsing andknowledge extraction using LangChain , enabling the AI to generate\\ncontextually relevant follow-up questions and enhance user interaction quality.\\n•Orchestrated seamless integration between frontend (Node.js) andbackend (Java Spring Boot, MongoDB)\\nsystems, ensuring smooth data flow, user authentication, and effective SOP generation.\\nIn-App Potato Disease Classification |Google Cloud Platform, FastAPI,CNN ,React Native,TensorFlow Lite\\n•Reduced Detection Time by 40% through implementing a CNN model, improving the accuracy to 95% for detecting early\\nand late blight in potato plants.\\n•Optimized Model Deployment using FastAPI andTensorFlow Serving , enabling real-time API responses with an\\naverage latency of under 100ms.\\n•Built a Scalable Solution deployed on Google Cloud Platform , handling over 10,000 requests per month and'),\n",
       " Document(metadata={'source': 'test.pdf', 'page': 0}, page_content='average latency of under 100ms.\\n•Built a Scalable Solution deployed on Google Cloud Platform , handling over 10,000 requests per month and\\nintegrating seamlessly with React.js frontend and React Native mobile app.\\nTechnical Skills\\nLanguages : Python,C++, SQL, Java\\nTech Stack : Pytorch, Tensorflow, Keras, FastAPI, Flask, Spring Boot\\nTools : Linux, Docker, Anaconda, Tableau, Power BI, Git & Github, Bitbucket, Gitlab, Postman\\nCloud services : AWS EC2, AWS S3, GCP (Cloud run)')]"
      ]
     },
     "execution_count": 3,
     "metadata": {},
     "output_type": "execute_result"
    }
   ],
   "source": [
    "from langchain_text_splitters import RecursiveCharacterTextSplitter\n",
    "text_splitter = RecursiveCharacterTextSplitter(\n",
    "    # Set a really small chunk size, just to show.\n",
    "    chunk_size=1000,\n",
    "    chunk_overlap=200,\n",
    "    length_function=len,\n",
    "    is_separator_regex=False,\n",
    ")\n",
    "documents = text_splitter.split_documents(pages)\n",
    "documents"
   ]
  },
  {
   "cell_type": "code",
   "execution_count": 34,
   "metadata": {},
   "outputs": [
    {
     "name": "stdout",
     "output_type": "stream",
     "text": [
      "sk-proj-iwcVmbqDyiS7JGniy3bnT3BlbkFJFJVwJAr6frsYVwXn1SWK\n"
     ]
    }
   ],
   "source": [
    "import os\n",
    "from dotenv import load_dotenv\n",
    "load_dotenv()\n",
    "\n",
    "os.environ[\"OPENAI_API_KEY\"] = \"sk-proj-iwcVmbqDyiS7JGniy3bnT3BlbkFJFJVwJAr6frsYVwXn1SWK\"\n"
   ]
  },
  {
   "cell_type": "code",
   "execution_count": 38,
   "metadata": {},
   "outputs": [],
   "source": [
    "from langchain.embeddings.openai import OpenAIEmbeddings\n",
    "\n",
    "OPENAI_API_KEY = os.getenv(\"OPENAI_API_KEY\")\n",
    "model_name = 'text-embedding-ada-002'\n",
    "embed = OpenAIEmbeddings(\n",
    "    model=model_name,\n",
    "    openai_api_key=OPENAI_API_KEY\n",
    ")\n",
    "\n",
    "\n",
    "from langchain_community.vectorstores import FAISS\n",
    "vetcordb = FAISS.from_documents(documents,OpenAIEmbeddings())\n"
   ]
  },
  {
   "cell_type": "code",
   "execution_count": 39,
   "metadata": {},
   "outputs": [
    {
     "data": {
      "text/plain": [
       "'real-time, interactive user conversations via WebSockets and generating customized SOPs.Reduced SOP creation time\\nby 80%\\n•Implemented dynamic question parsing andknowledge extraction using LangChain , enabling the AI to generate\\ncontextually relevant follow-up questions and enhance user interaction quality.\\n•Orchestrated seamless integration between frontend (Node.js) andbackend (Java Spring Boot, MongoDB)\\nsystems, ensuring smooth data flow, user authentication, and effective SOP generation.\\nIn-App Potato Disease Classification |Google Cloud Platform, FastAPI,CNN ,React Native,TensorFlow Lite\\n•Reduced Detection Time by 40% through implementing a CNN model, improving the accuracy to 95% for detecting early\\nand late blight in potato plants.\\n•Optimized Model Deployment using FastAPI andTensorFlow Serving , enabling real-time API responses with an\\naverage latency of under 100ms.\\n•Built a Scalable Solution deployed on Google Cloud Platform , handling over 10,000 requests per month and'"
      ]
     },
     "execution_count": 39,
     "metadata": {},
     "output_type": "execute_result"
    }
   ],
   "source": [
    "\n",
    "retriever = vetcordb.as_retriever()\n",
    "retrieved_documents = retriever.invoke(\"What is LangChain?\")\n",
    "retrieved_documents[0].page_content"
   ]
  },
  {
   "cell_type": "code",
   "execution_count": 40,
   "metadata": {},
   "outputs": [],
   "source": [
    "from langchain_ollama import OllamaLLM\n",
    "from langchain.chains.combine_documents import create_stuff_documents_chain\n",
    "from langchain_core.prompts import ChatPromptTemplate\n",
    "\n",
    "\n",
    "llm = OllamaLLM(model='llama2')\n",
    "prompt = ChatPromptTemplate.from_template(\"\"\"\"\n",
    "                                          Answer the following question based only on the provided context Think step by step to before providing a detailed answer.\n",
    "                                          <context>\n",
    "                                          {context}\n",
    "                                          <context>\n",
    "                                          Question:{input}\n",
    "                                          \"\"\")\n",
    "documents_chain = create_stuff_documents_chain(llm,prompt)"
   ]
  },
  {
   "cell_type": "code",
   "execution_count": 41,
   "metadata": {},
   "outputs": [],
   "source": [
    "from langchain.chains import create_retrieval_chain\n",
    "retriever_chain = create_retrieval_chain(retriever,documents_chain)"
   ]
  },
  {
   "cell_type": "code",
   "execution_count": 42,
   "metadata": {},
   "outputs": [],
   "source": [
    "response = retriever_chain.invoke({\"input\":\"What all have shariq done in Openinapp as an AI Engineer.\"})\n",
    "response['answer']"
   ]
  },
  {
   "cell_type": "code",
   "execution_count": null,
   "metadata": {},
   "outputs": [],
   "source": []
  }
 ],
 "metadata": {
  "kernelspec": {
   "display_name": "llm",
   "language": "python",
   "name": "python3"
  },
  "language_info": {
   "codemirror_mode": {
    "name": "ipython",
    "version": 3
   },
   "file_extension": ".py",
   "mimetype": "text/x-python",
   "name": "python",
   "nbconvert_exporter": "python",
   "pygments_lexer": "ipython3",
   "version": "3.10.0"
  }
 },
 "nbformat": 4,
 "nbformat_minor": 2
}
